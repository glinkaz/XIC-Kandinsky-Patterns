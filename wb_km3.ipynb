{
 "cells": [
  {
   "cell_type": "markdown",
   "metadata": {},
   "source": [
    "# Kamień milowy 3\n",
    "### Zuzanna Glinka\n",
    "### Karol Degórski\n",
    "### Adrian Kamiński"
   ]
  },
  {
   "cell_type": "markdown",
   "metadata": {},
   "source": [
    "#### Streszczenia artykułów z dziedziny"
   ]
  },
  {
   "cell_type": "markdown",
   "metadata": {},
   "source": [
    "1.   **[Why should I trust you?](http://www.csc.villanova.edu/~beck/csc8570/papers/ribeiro.pdf)** \n",
    "\n",
    "\n",
    "\"Why Should I Trust You?\": Explaining the Predictions of Any Classifier \n",
    "￼\n",
    "W tym artykule autor podejmuje problem wyjaśnień predykcji różnych klasyfikatorów, podkreślając ważność interpretowalności modeli. Pokazuje kilka przykładów wyjaśnień i wpływu konkretnych zmiennych, konfrontując je z intuicją człowieka. Proponuje LIME do wyjaśniania klasyfikacji, pokazuje jej efektywność oraz przewagę nad innymi technikami. Ciekawe były przykłady badań tego jak ludzie ufają algorytmom i co na to wpływa, pokazując, że dzięki wyjaśnieniom człowiek jest w stanie mieć większą kontrolę nad algorytmami i analizą ich poprawności.  \n",
    "Mimo wielu zalet, tam metoda posiada kilka wad m.in. nie działa za dobrze dla złożonych danych. \n",
    "\n",
    "2.   **[Towards Automatic Concept-based Explanations](https://arxiv.org/abs/1902.03129)** \n",
    "\n",
    "\n",
    "Artykuł wprowadza nową globalną metodę Automated Concept-based Explanation (ACE), służącą do automatycznego znajdowania wyjaśnień zrozumiałych dla człowieka. Najważniejsze cechy wyjaśnień opartych na konceptach są: \n",
    "- istotność - np. pojedynczy piksel ma małe znaczenie, ale już grupa pikseli może wyjaśniać kształt, czy teksturę,\n",
    "- spójność - elementy tego samego konceptu powinny być podobne do siebie i powinny się różnić od innych konceptów, \n",
    "- ważność - koncept jest ważny, gdy jego obecność jest niezbędna do dokonania danej predykcji.\n",
    "  \n",
    "Zaletą tej metody jest dostarczanie dobrych wyjaśnień modeli już wcześniej wytrenowanych. Po przeprowadzeniu eksperymentów ankietowani istotnie wskazywali na lepsze wyjaśnienia metody ACE. Niestety metoda ACE może nie poradzić sobie ze złożonymi i abstrakcyjnymi konceptami. Ograniczeniem tej metody jest również możliwość wyjaśnień jedynie danych obrazowych, a nie np. tekstowych.\n",
    "\n",
    "3. **[Explaining Predictions of Non-Linear Classifiers in NLP](https://arxiv.org/abs/1606.07298)**  \n",
    "\n",
    "\n",
    "Artykuł przedstawia porównanie LRP (Layer-wise relevance propagation), techniki do wyjaśniania złożonych nie liniowych klasyfikatorów w kontekście zmiennych wejściowych z metodą SA (Sensitivity Analysis). Przedstawone jest rozwiązywanie problemu NLP i jego wyjaśnialności. Mocną stroną LRP jest fakt, że oprócz wskazywania które słowa wpływają pozytywnie na decyję o przypisaniu do konkretnej klasy, zwraca on również słowa które wpływają negatywnie, czego SA nie robi. Co rzeczywiście jest pomocnę, przynajmniej dla ludziego oka, co pokazali na wizualizacji z podkreślonymi słowami (tych wpływających pozytywnie i dla LRP niegatywnie)). Wykonanie PCA pokazało że użycie LRP pozwala lepiej rozróżnić różne kategorie dokumentów.\n"
   ]
  },
  {
   "cell_type": "markdown",
   "metadata": {},
   "source": [
    "#### Wczytanie modelu "
   ]
  },
  {
   "cell_type": "code",
   "execution_count": 1,
   "metadata": {},
   "outputs": [],
   "source": [
    "import numpy as np\n",
    "import os\n",
    "import math\n",
    "import random\n",
    "import warnings\n",
    "import copy\n",
    "warnings.filterwarnings(\"ignore\")"
   ]
  },
  {
   "cell_type": "code",
   "execution_count": 2,
   "metadata": {},
   "outputs": [],
   "source": [
    "import torch\n",
    "import torchvision\n",
    "import torch.nn as nn\n",
    "import torch.nn.functional as F\n",
    "import torch.optim as optim\n",
    "\n",
    "import numpy as np\n",
    "import pandas as pd\n",
    "import PIL\n",
    "import matplotlib.pyplot as plt\n",
    "from sklearn.metrics import confusion_matrix\n",
    "import seaborn as sns\n",
    "\n",
    "device = \"cuda:0\" if torch.cuda.is_available() else 'cpu'"
   ]
  },
  {
   "cell_type": "code",
   "execution_count": 3,
   "metadata": {},
   "outputs": [],
   "source": [
    "_resnet18 = torchvision.models.resnet18(pretrained=True)"
   ]
  },
  {
   "cell_type": "code",
   "execution_count": 4,
   "metadata": {},
   "outputs": [],
   "source": [
    "class NetWrapper(torch.nn.Module):\n",
    "    def __init__(self, model, num_classes):\n",
    "        super(NetWrapper, self).__init__()\n",
    "        self.model = model\n",
    "        self.flatten = nn.Flatten()\n",
    "        self.linear0 = nn.Linear(1000, 128)\n",
    "        self.dropout = nn.Dropout(p=0.5)\n",
    "        self.ReLU = nn.ReLU()\n",
    "        self.linear = nn.Linear(128, num_classes)\n",
    "        self.softmax = nn.Softmax(dim=1)\n",
    "\n",
    "    def forward(self, x):\n",
    "        x = self.model(x)\n",
    "        x = self.flatten(x)\n",
    "        x = self.linear0(x)\n",
    "        x = self.ReLU(x)\n",
    "        x = self.dropout(x)\n",
    "        x = self.linear(x)\n",
    "        x = self.softmax(x)\n",
    "        return x"
   ]
  },
  {
   "cell_type": "code",
   "execution_count": 5,
   "metadata": {},
   "outputs": [
    {
     "data": {
      "text/plain": [
       "array(['circle', 'none', 'square', 'triangle'], dtype='<U8')"
      ]
     },
     "execution_count": 5,
     "metadata": {},
     "output_type": "execute_result"
    }
   ],
   "source": [
    "CLASSES = os.listdir('../data/train')\n",
    "CLASSES.sort()\n",
    "CLASSES = np.array(CLASSES)\n",
    "CLASSES"
   ]
  },
  {
   "cell_type": "code",
   "execution_count": null,
   "metadata": {},
   "outputs": [],
   "source": [
    "resnet18 = NetWrapper(_resnet18, CLASSES.size).to(device)\n",
    "\n",
    "resnet18.load_state_dict(torch.load('../models_18-05/resnet18.pth', map_location=torch.device(device)))\n",
    "resnet18.eval()\n",
    "resnet18.to(device)"
   ]
  },
  {
   "cell_type": "code",
   "execution_count": 7,
   "metadata": {},
   "outputs": [],
   "source": [
    "transformations = torchvision.transforms.Compose([\n",
    "    # torchvision.transforms.Resize((128, 128)),\n",
    "    torchvision.transforms.ToTensor(),\n",
    "    # torchvision.transforms.Normalize(mean=[0.485, 0.456, 0.406], std=[0.229, 0.224, 0.225])\n",
    "])\n",
    "test_set = torchvision.datasets.ImageFolder(\"../data/test/\", transform = transformations)\n",
    "\n",
    "# train_loader = torch.utils.data.DataLoader(train_set, batch_size=64, shuffle=True)\n",
    "test_loader = torch.utils.data.DataLoader(test_set, batch_size=1, shuffle=False)\n",
    "# test_loader = torch.load('test_loader.pt')"
   ]
  },
  {
   "cell_type": "markdown",
   "metadata": {},
   "source": [
    "#### Wyjaśnienie klasyfikatora metodami z labolatoriów"
   ]
  },
  {
   "cell_type": "code",
   "execution_count": 8,
   "metadata": {},
   "outputs": [],
   "source": [
    "# pip install captum\n",
    "from captum.attr import visualization\n",
    "\n",
    "def show_attr(attr_map):\n",
    "    visualization.visualize_image_attr(\n",
    "        attr_map.permute(1, 2, 0).numpy(),\n",
    "        method='heat_map',\n",
    "        sign='all',\n",
    "        show_colorbar=True\n",
    "    )"
   ]
  },
  {
   "cell_type": "code",
   "execution_count": 9,
   "metadata": {},
   "outputs": [],
   "source": [
    "preprocess = torchvision.transforms.Compose([\n",
    "   # torchvision.transforms.ToTensor(),\n",
    "])"
   ]
  },
  {
   "cell_type": "code",
   "execution_count": 10,
   "metadata": {},
   "outputs": [],
   "source": [
    "from skimage import segmentation"
   ]
  },
  {
   "cell_type": "code",
   "execution_count": 13,
   "metadata": {},
   "outputs": [
    {
     "data": {
      "image/png": "[encoded data removed]",
      "text/plain": [
       "<Figure size 432x432 with 2 Axes>"
      ]
     },
     "metadata": {
      "needs_background": "light"
     },
     "output_type": "display_data"
    }
   ],
   "source": [
    "from captum.attr import KernelShap\n",
    "exp_ks = KernelShap(resnet18)\n",
    "\n",
    "def mask(i):\n",
    "    return segmentation.quickshift(\n",
    "        test_set[i][0].permute(1, 2, 0).double(), \n",
    "        kernel_size=45, \n",
    "        max_dist=8, \n",
    "        ratio=0.7\n",
    "    )\n",
    "\n",
    "\n",
    "def attr_ks(i):\n",
    "    return exp_ks.attribute(\n",
    "        preprocess(test_set[i][0].unsqueeze(0)), \n",
    "        target=test_set[i][1], \n",
    "        n_samples=200, \n",
    "        feature_mask=torch.as_tensor(mask(i)),\n",
    "        show_progress=False,\n",
    "        baselines = torch.ones(3, 256, 256) * 0.5882\n",
    "    )\n",
    "\n",
    "show_attr(attr_ks(10)[0])"
   ]
  },
  {
   "cell_type": "code",
   "execution_count": 362,
   "metadata": {},
   "outputs": [],
   "source": [
    "def explanin(object):\n",
    "    normalized=visualization._normalize_image_attr(object.permute(1, 2, 0).numpy(), sign='all', outlier_perc=2)\n",
    "    big=copy.deepcopy(normalized)\n",
    "    small=copy.deepcopy(normalized)\n",
    "    big[big<0.65]=0\n",
    "    small[small>(-0.65)]=0\n",
    "    normalized=big+small\n",
    "    fig, ax = plt.subplots(figsize=(10,5))\n",
    "    colors = np.zeros(normalized.shape + (3,))\n",
    "    colors[(0.65<normalized)] = (1,0,0) # czerwone\n",
    "    colors[(0.65>normalized)] = (0.5, 0.5, 0.5) # szare\n",
    "    colors[(0==normalized)] =  (0, 0, 1) # niebieskie\n",
    "    ax.matshow(colors, interpolation='nearest')\n",
    "    plt.show()"
   ]
  },
  {
   "cell_type": "code",
   "execution_count": 363,
   "metadata": {},
   "outputs": [
    {
     "data": {
      "image/png": "[encoded data removed]",
      "text/plain": [
       "<Figure size 720x360 with 1 Axes>"
      ]
     },
     "metadata": {
      "needs_background": "light"
     },
     "output_type": "display_data"
    }
   ],
   "source": [
    "explanin(attr_ks(10)[0])"
   ]
  },
  {
   "cell_type": "code",
   "execution_count": 364,
   "metadata": {},
   "outputs": [
    {
     "data": {
      "image/png": "[encoded data removed]",
      "text/plain": [
       "<Figure size 432x432 with 2 Axes>"
      ]
     },
     "metadata": {
      "needs_background": "light"
     },
     "output_type": "display_data"
    }
   ],
   "source": [
    "show_attr(attr_ks(4)[0])"
   ]
  },
  {
   "cell_type": "code",
   "execution_count": 365,
   "metadata": {},
   "outputs": [
    {
     "data": {
      "image/png": "[encoded data removed]",
      "text/plain": [
       "<Figure size 720x360 with 1 Axes>"
      ]
     },
     "metadata": {
      "needs_background": "light"
     },
     "output_type": "display_data"
    }
   ],
   "source": [
    "explanin(attr_ks(4)[0])"
   ]
  },
  {
   "cell_type": "code",
   "execution_count": 370,
   "metadata": {},
   "outputs": [
    {
     "data": {
      "image/png": "[encoded data removed]",
      "text/plain": [
       "<Figure size 432x432 with 2 Axes>"
      ]
     },
     "metadata": {
      "needs_background": "light"
     },
     "output_type": "display_data"
    }
   ],
   "source": [
    "show_attr(attr_ks(1500)[0])"
   ]
  },
  {
   "cell_type": "markdown",
   "metadata": {},
   "source": [
    "#### Dopracowane podejście do wyjaśnień związanych z postawionym problemem"
   ]
  },
  {
   "cell_type": "code",
   "execution_count": 16,
   "metadata": {},
   "outputs": [],
   "source": [
    "idx = np.random.randint(0, 4800, size=20)"
   ]
  },
  {
   "cell_type": "code",
   "execution_count": 17,
   "metadata": {},
   "outputs": [
    {
     "data": {
      "text/plain": [
       "array([4560, 3491, 4360, 2126, 1450, 2349,  766,  213, 2311,  307, 4503,\n",
       "       4433, 1441, 3851, 3913, 2757, 1853, 2708, 1161,  890])"
      ]
     },
     "execution_count": 17,
     "metadata": {},
     "output_type": "execute_result"
    }
   ],
   "source": [
    "idx"
   ]
  },
  {
   "cell_type": "code",
   "execution_count": 287,
   "metadata": {},
   "outputs": [],
   "source": [
    "# np.save('idx.npy', idx)"
   ]
  },
  {
   "cell_type": "code",
   "execution_count": 289,
   "metadata": {},
   "outputs": [],
   "source": [
    "importance = []\n",
    "for _id in idx:\n",
    "    normalized=visualization._normalize_image_attr(attr_ks(_id)[0].permute(1, 2, 0).numpy(),\n",
    "                                                   sign='all', outlier_perc=2)\n",
    "    importance.append(normalized)"
   ]
  },
  {
   "cell_type": "code",
   "execution_count": 292,
   "metadata": {},
   "outputs": [],
   "source": [
    "# import pickle\n",
    "# pickle.dump( importance, open( 'importance.p', 'wb' ) )\n",
    "# pickle.load(open('importance.p', 'rb'))"
   ]
  },
  {
   "cell_type": "markdown",
   "metadata": {},
   "source": [
    "#### Wczytywanie wszystkich plików csv"
   ]
  },
  {
   "cell_type": "code",
   "execution_count": 18,
   "metadata": {},
   "outputs": [],
   "source": [
    "import glob"
   ]
  },
  {
   "cell_type": "code",
   "execution_count": 295,
   "metadata": {},
   "outputs": [],
   "source": [
    "class_encoder = {\n",
    "    'circle': 0,\n",
    "    'none': 1,\n",
    "    'square': 2,\n",
    "    'triangle': 3\n",
    "}\n",
    "\n",
    "csv_list = []\n",
    "file_names = []\n",
    "for filename in glob.iglob('../data/details/test/' + '**/*.csv', recursive=True):\n",
    "    file_names.append(filename.replace('\\\\','/'))\n",
    "\n",
    "    class_name = filename.replace('\\\\','/').split('/')[4]\n",
    "    csv = pd.read_csv(filename.replace('\\\\','/'))\n",
    "\n",
    "    csv['class'] = class_encoder[class_name]\n",
    "\n",
    "    csv_list.append(csv)"
   ]
  },
  {
   "cell_type": "code",
   "execution_count": 296,
   "metadata": {},
   "outputs": [],
   "source": [
    "csv_list_ordered = [csv_list[i] for i in np.argsort(file_names)]"
   ]
  },
  {
   "cell_type": "code",
   "execution_count": 297,
   "metadata": {},
   "outputs": [],
   "source": [
    "def add_columns(df, importance):\n",
    "    df['isTrue'] = df.label.str.contains('true')\n",
    "    df['mainShape'] = df.label.str.split().str[-1]\n",
    "\n",
    "    _min, _max = 5/120, 10/120\n",
    "    \n",
    "    df.loc[df['size'] <= _min + (_max-_min)/3, 'size_d'] = 'small'\n",
    "    df.loc[(df['size'] < _min + (_max-_min)/3 * 2) & (df['size'] > _min + (_max-_min)/3), 'size_d'] = 'medium'\n",
    "    df.loc[df['size'] >= _min + (_max-_min)/3 * 2, 'size_d'] = 'big'\n",
    "\n",
    "    # TODO: get more pixels\n",
    "    df['Importance'] = importance[(df.x*255).round().astype(int).values, (df.y*255).round().astype(int).values]\n",
    "\n",
    "    return df"
   ]
  },
  {
   "cell_type": "code",
   "execution_count": null,
   "metadata": {},
   "outputs": [],
   "source": [
    "import copy"
   ]
  },
  {
   "cell_type": "code",
   "execution_count": 300,
   "metadata": {},
   "outputs": [],
   "source": [
    "csv_importance = []\n",
    "for j, _id in enumerate(idx):\n",
    "    df = copy.deepcopy(csv_list_ordered[_id])\n",
    "\n",
    "    df = add_columns(df, importance[j])\n",
    "\n",
    "    csv_importance.append(df)"
   ]
  },
  {
   "cell_type": "code",
   "execution_count": 313,
   "metadata": {},
   "outputs": [],
   "source": [
    "class0 = [csv for csv in csv_importance if csv['class'][0] == 0] # 0 - circle"
   ]
  },
  {
   "cell_type": "markdown",
   "metadata": {},
   "source": [
    "#### Pierwsze próby wyciągnięcia jakichkolwiek informacji"
   ]
  },
  {
   "cell_type": "code",
   "execution_count": 371,
   "metadata": {},
   "outputs": [],
   "source": [
    "negative_impact_by_shape = {'square': 0, 'triangle': 0, 'circle': 0}\n",
    "possitive_impact_by_shape = {'square': 0, 'triangle': 0, 'circle': 0}\n",
    "negative_impact_by_size = {'small': 0, 'medium': 0, 'big': 0}\n",
    "possitive_impact_by_size = {'small': 0, 'medium': 0, 'big': 0}\n",
    "for csv in class0:\n",
    "    for value in csv[csv.Importance==csv.Importance.min()]['shape'].values:\n",
    "        negative_impact_by_shape[value] += 1 \n",
    "    for value in csv[csv.Importance==csv.Importance.max()]['shape'].values:\n",
    "        possitive_impact_by_shape[value] += 1 \n",
    "\n",
    "    for value in csv[csv.Importance==csv.Importance.min()]['size_d'].values:\n",
    "        negative_impact_by_size[value] += 1 \n",
    "    for value in csv[csv.Importance==csv.Importance.max()]['size_d'].values:\n",
    "        possitive_impact_by_size[value] += 1 "
   ]
  },
  {
   "cell_type": "code",
   "execution_count": 372,
   "metadata": {},
   "outputs": [
    {
     "data": {
      "text/plain": [
       "{'square': 2, 'triangle': 1, 'circle': 2}"
      ]
     },
     "execution_count": 372,
     "metadata": {},
     "output_type": "execute_result"
    }
   ],
   "source": [
    "negative_impact_by_shape"
   ]
  },
  {
   "cell_type": "code",
   "execution_count": 373,
   "metadata": {},
   "outputs": [
    {
     "data": {
      "text/plain": [
       "{'square': 13, 'triangle': 8, 'circle': 45}"
      ]
     },
     "execution_count": 373,
     "metadata": {},
     "output_type": "execute_result"
    }
   ],
   "source": [
    "possitive_impact_by_shape"
   ]
  },
  {
   "cell_type": "code",
   "execution_count": 374,
   "metadata": {},
   "outputs": [
    {
     "data": {
      "text/plain": [
       "{'small': 3, 'medium': 1, 'big': 1}"
      ]
     },
     "execution_count": 374,
     "metadata": {},
     "output_type": "execute_result"
    }
   ],
   "source": [
    "negative_impact_by_size"
   ]
  },
  {
   "cell_type": "code",
   "execution_count": 375,
   "metadata": {},
   "outputs": [
    {
     "data": {
      "text/plain": [
       "{'small': 24, 'medium': 25, 'big': 17}"
      ]
     },
     "execution_count": 375,
     "metadata": {},
     "output_type": "execute_result"
    }
   ],
   "source": [
    "possitive_impact_by_size"
   ]
  },
  {
   "cell_type": "code",
   "execution_count": 356,
   "metadata": {
    "scrolled": true
   },
   "outputs": [
    {
     "data": {
      "text/html": [
       "<div>\n",
       "<style scoped>\n",
       "    .dataframe tbody tr th:only-of-type {\n",
       "        vertical-align: middle;\n",
       "    }\n",
       "\n",
       "    .dataframe tbody tr th {\n",
       "        vertical-align: top;\n",
       "    }\n",
       "\n",
       "    .dataframe thead th {\n",
       "        text-align: right;\n",
       "    }\n",
       "</style>\n",
       "<table border=\"1\" class=\"dataframe\">\n",
       "  <thead>\n",
       "    <tr style=\"text-align: right;\">\n",
       "      <th></th>\n",
       "      <th>x</th>\n",
       "      <th>y</th>\n",
       "      <th>shape</th>\n",
       "      <th>size</th>\n",
       "      <th>color</th>\n",
       "      <th>label</th>\n",
       "      <th>class</th>\n",
       "      <th>isTrue</th>\n",
       "      <th>mainShape</th>\n",
       "      <th>size_d</th>\n",
       "      <th>Importance</th>\n",
       "    </tr>\n",
       "  </thead>\n",
       "  <tbody>\n",
       "    <tr>\n",
       "      <th>0</th>\n",
       "      <td>0.731162</td>\n",
       "      <td>0.542428</td>\n",
       "      <td>circle</td>\n",
       "      <td>0.075000</td>\n",
       "      <td>blue</td>\n",
       "      <td>true circle</td>\n",
       "      <td>0</td>\n",
       "      <td>True</td>\n",
       "      <td>circle</td>\n",
       "      <td>big</td>\n",
       "      <td>0.030705</td>\n",
       "    </tr>\n",
       "    <tr>\n",
       "      <th>1</th>\n",
       "      <td>0.688530</td>\n",
       "      <td>0.775243</td>\n",
       "      <td>circle</td>\n",
       "      <td>0.066667</td>\n",
       "      <td>red</td>\n",
       "      <td>true circle</td>\n",
       "      <td>0</td>\n",
       "      <td>True</td>\n",
       "      <td>circle</td>\n",
       "      <td>medium</td>\n",
       "      <td>0.030705</td>\n",
       "    </tr>\n",
       "    <tr>\n",
       "      <th>2</th>\n",
       "      <td>0.342926</td>\n",
       "      <td>0.740277</td>\n",
       "      <td>circle</td>\n",
       "      <td>0.058333</td>\n",
       "      <td>yellow</td>\n",
       "      <td>true circle</td>\n",
       "      <td>0</td>\n",
       "      <td>True</td>\n",
       "      <td>circle</td>\n",
       "      <td>medium</td>\n",
       "      <td>0.030705</td>\n",
       "    </tr>\n",
       "    <tr>\n",
       "      <th>3</th>\n",
       "      <td>0.262521</td>\n",
       "      <td>0.568765</td>\n",
       "      <td>circle</td>\n",
       "      <td>0.066667</td>\n",
       "      <td>blue</td>\n",
       "      <td>true circle</td>\n",
       "      <td>0</td>\n",
       "      <td>True</td>\n",
       "      <td>circle</td>\n",
       "      <td>medium</td>\n",
       "      <td>0.030705</td>\n",
       "    </tr>\n",
       "    <tr>\n",
       "      <th>4</th>\n",
       "      <td>0.432152</td>\n",
       "      <td>0.323195</td>\n",
       "      <td>circle</td>\n",
       "      <td>0.066667</td>\n",
       "      <td>blue</td>\n",
       "      <td>true circle</td>\n",
       "      <td>0</td>\n",
       "      <td>True</td>\n",
       "      <td>circle</td>\n",
       "      <td>medium</td>\n",
       "      <td>0.030705</td>\n",
       "    </tr>\n",
       "    <tr>\n",
       "      <th>5</th>\n",
       "      <td>0.623361</td>\n",
       "      <td>0.359872</td>\n",
       "      <td>circle</td>\n",
       "      <td>0.041667</td>\n",
       "      <td>yellow</td>\n",
       "      <td>true circle</td>\n",
       "      <td>0</td>\n",
       "      <td>True</td>\n",
       "      <td>circle</td>\n",
       "      <td>small</td>\n",
       "      <td>0.030705</td>\n",
       "    </tr>\n",
       "    <tr>\n",
       "      <th>6</th>\n",
       "      <td>0.662563</td>\n",
       "      <td>0.392243</td>\n",
       "      <td>triangle</td>\n",
       "      <td>0.075000</td>\n",
       "      <td>yellow</td>\n",
       "      <td>0 false circle</td>\n",
       "      <td>0</td>\n",
       "      <td>False</td>\n",
       "      <td>circle</td>\n",
       "      <td>big</td>\n",
       "      <td>0.030705</td>\n",
       "    </tr>\n",
       "    <tr>\n",
       "      <th>7</th>\n",
       "      <td>0.621286</td>\n",
       "      <td>0.524764</td>\n",
       "      <td>circle</td>\n",
       "      <td>0.041667</td>\n",
       "      <td>red</td>\n",
       "      <td>0 false circle</td>\n",
       "      <td>0</td>\n",
       "      <td>False</td>\n",
       "      <td>circle</td>\n",
       "      <td>small</td>\n",
       "      <td>0.030705</td>\n",
       "    </tr>\n",
       "    <tr>\n",
       "      <th>8</th>\n",
       "      <td>0.565967</td>\n",
       "      <td>0.646938</td>\n",
       "      <td>square</td>\n",
       "      <td>0.083333</td>\n",
       "      <td>blue</td>\n",
       "      <td>0 false circle</td>\n",
       "      <td>0</td>\n",
       "      <td>False</td>\n",
       "      <td>circle</td>\n",
       "      <td>big</td>\n",
       "      <td>0.030705</td>\n",
       "    </tr>\n",
       "    <tr>\n",
       "      <th>9</th>\n",
       "      <td>0.463280</td>\n",
       "      <td>0.694080</td>\n",
       "      <td>square</td>\n",
       "      <td>0.083333</td>\n",
       "      <td>yellow</td>\n",
       "      <td>0 false circle</td>\n",
       "      <td>0</td>\n",
       "      <td>False</td>\n",
       "      <td>circle</td>\n",
       "      <td>big</td>\n",
       "      <td>0.030705</td>\n",
       "    </tr>\n",
       "    <tr>\n",
       "      <th>10</th>\n",
       "      <td>0.338717</td>\n",
       "      <td>0.678807</td>\n",
       "      <td>circle</td>\n",
       "      <td>0.050000</td>\n",
       "      <td>blue</td>\n",
       "      <td>0 false circle</td>\n",
       "      <td>0</td>\n",
       "      <td>False</td>\n",
       "      <td>circle</td>\n",
       "      <td>small</td>\n",
       "      <td>0.030705</td>\n",
       "    </tr>\n",
       "    <tr>\n",
       "      <th>11</th>\n",
       "      <td>0.236980</td>\n",
       "      <td>0.593705</td>\n",
       "      <td>square</td>\n",
       "      <td>0.050000</td>\n",
       "      <td>red</td>\n",
       "      <td>0 false circle</td>\n",
       "      <td>0</td>\n",
       "      <td>False</td>\n",
       "      <td>circle</td>\n",
       "      <td>small</td>\n",
       "      <td>-0.430837</td>\n",
       "    </tr>\n",
       "    <tr>\n",
       "      <th>12</th>\n",
       "      <td>0.177850</td>\n",
       "      <td>0.530808</td>\n",
       "      <td>triangle</td>\n",
       "      <td>0.066667</td>\n",
       "      <td>red</td>\n",
       "      <td>0 false circle</td>\n",
       "      <td>0</td>\n",
       "      <td>False</td>\n",
       "      <td>circle</td>\n",
       "      <td>medium</td>\n",
       "      <td>0.030705</td>\n",
       "    </tr>\n",
       "    <tr>\n",
       "      <th>13</th>\n",
       "      <td>0.112733</td>\n",
       "      <td>0.429934</td>\n",
       "      <td>triangle</td>\n",
       "      <td>0.050000</td>\n",
       "      <td>red</td>\n",
       "      <td>0 false circle</td>\n",
       "      <td>0</td>\n",
       "      <td>False</td>\n",
       "      <td>circle</td>\n",
       "      <td>small</td>\n",
       "      <td>0.030705</td>\n",
       "    </tr>\n",
       "    <tr>\n",
       "      <th>14</th>\n",
       "      <td>0.137148</td>\n",
       "      <td>0.314017</td>\n",
       "      <td>square</td>\n",
       "      <td>0.066667</td>\n",
       "      <td>yellow</td>\n",
       "      <td>0 false circle</td>\n",
       "      <td>0</td>\n",
       "      <td>False</td>\n",
       "      <td>circle</td>\n",
       "      <td>medium</td>\n",
       "      <td>0.030705</td>\n",
       "    </tr>\n",
       "    <tr>\n",
       "      <th>15</th>\n",
       "      <td>0.242038</td>\n",
       "      <td>0.185779</td>\n",
       "      <td>square</td>\n",
       "      <td>0.050000</td>\n",
       "      <td>blue</td>\n",
       "      <td>0 false circle</td>\n",
       "      <td>0</td>\n",
       "      <td>False</td>\n",
       "      <td>circle</td>\n",
       "      <td>small</td>\n",
       "      <td>0.030705</td>\n",
       "    </tr>\n",
       "    <tr>\n",
       "      <th>16</th>\n",
       "      <td>0.309394</td>\n",
       "      <td>0.191096</td>\n",
       "      <td>circle</td>\n",
       "      <td>0.066667</td>\n",
       "      <td>yellow</td>\n",
       "      <td>0 false circle</td>\n",
       "      <td>0</td>\n",
       "      <td>False</td>\n",
       "      <td>circle</td>\n",
       "      <td>medium</td>\n",
       "      <td>0.030705</td>\n",
       "    </tr>\n",
       "    <tr>\n",
       "      <th>17</th>\n",
       "      <td>0.438933</td>\n",
       "      <td>0.192322</td>\n",
       "      <td>circle</td>\n",
       "      <td>0.066667</td>\n",
       "      <td>red</td>\n",
       "      <td>0 false circle</td>\n",
       "      <td>0</td>\n",
       "      <td>False</td>\n",
       "      <td>circle</td>\n",
       "      <td>medium</td>\n",
       "      <td>0.030705</td>\n",
       "    </tr>\n",
       "    <tr>\n",
       "      <th>18</th>\n",
       "      <td>0.566224</td>\n",
       "      <td>0.232020</td>\n",
       "      <td>circle</td>\n",
       "      <td>0.075000</td>\n",
       "      <td>yellow</td>\n",
       "      <td>0 false circle</td>\n",
       "      <td>0</td>\n",
       "      <td>False</td>\n",
       "      <td>circle</td>\n",
       "      <td>big</td>\n",
       "      <td>0.030705</td>\n",
       "    </tr>\n",
       "    <tr>\n",
       "      <th>19</th>\n",
       "      <td>0.629826</td>\n",
       "      <td>0.275286</td>\n",
       "      <td>circle</td>\n",
       "      <td>0.075000</td>\n",
       "      <td>red</td>\n",
       "      <td>0 false circle</td>\n",
       "      <td>0</td>\n",
       "      <td>False</td>\n",
       "      <td>circle</td>\n",
       "      <td>big</td>\n",
       "      <td>0.030705</td>\n",
       "    </tr>\n",
       "  </tbody>\n",
       "</table>\n",
       "</div>"
      ],
      "text/plain": [
       "           x         y     shape      size   color           label  class  \\\n",
       "0   0.731162  0.542428    circle  0.075000    blue     true circle      0   \n",
       "1   0.688530  0.775243    circle  0.066667     red     true circle      0   \n",
       "2   0.342926  0.740277    circle  0.058333  yellow     true circle      0   \n",
       "3   0.262521  0.568765    circle  0.066667    blue     true circle      0   \n",
       "4   0.432152  0.323195    circle  0.066667    blue     true circle      0   \n",
       "5   0.623361  0.359872    circle  0.041667  yellow     true circle      0   \n",
       "6   0.662563  0.392243  triangle  0.075000  yellow  0 false circle      0   \n",
       "7   0.621286  0.524764    circle  0.041667     red  0 false circle      0   \n",
       "8   0.565967  0.646938    square  0.083333    blue  0 false circle      0   \n",
       "9   0.463280  0.694080    square  0.083333  yellow  0 false circle      0   \n",
       "10  0.338717  0.678807    circle  0.050000    blue  0 false circle      0   \n",
       "11  0.236980  0.593705    square  0.050000     red  0 false circle      0   \n",
       "12  0.177850  0.530808  triangle  0.066667     red  0 false circle      0   \n",
       "13  0.112733  0.429934  triangle  0.050000     red  0 false circle      0   \n",
       "14  0.137148  0.314017    square  0.066667  yellow  0 false circle      0   \n",
       "15  0.242038  0.185779    square  0.050000    blue  0 false circle      0   \n",
       "16  0.309394  0.191096    circle  0.066667  yellow  0 false circle      0   \n",
       "17  0.438933  0.192322    circle  0.066667     red  0 false circle      0   \n",
       "18  0.566224  0.232020    circle  0.075000  yellow  0 false circle      0   \n",
       "19  0.629826  0.275286    circle  0.075000     red  0 false circle      0   \n",
       "\n",
       "    isTrue mainShape  size_d  Importance  \n",
       "0     True    circle     big    0.030705  \n",
       "1     True    circle  medium    0.030705  \n",
       "2     True    circle  medium    0.030705  \n",
       "3     True    circle  medium    0.030705  \n",
       "4     True    circle  medium    0.030705  \n",
       "5     True    circle   small    0.030705  \n",
       "6    False    circle     big    0.030705  \n",
       "7    False    circle   small    0.030705  \n",
       "8    False    circle     big    0.030705  \n",
       "9    False    circle     big    0.030705  \n",
       "10   False    circle   small    0.030705  \n",
       "11   False    circle   small   -0.430837  \n",
       "12   False    circle  medium    0.030705  \n",
       "13   False    circle   small    0.030705  \n",
       "14   False    circle  medium    0.030705  \n",
       "15   False    circle   small    0.030705  \n",
       "16   False    circle  medium    0.030705  \n",
       "17   False    circle  medium    0.030705  \n",
       "18   False    circle     big    0.030705  \n",
       "19   False    circle     big    0.030705  "
      ]
     },
     "execution_count": 356,
     "metadata": {},
     "output_type": "execute_result"
    }
   ],
   "source": [
    "class0[0]"
   ]
  },
  {
   "cell_type": "markdown",
   "metadata": {},
   "source": [
    "Tabelka zawiera lokalne kompletny opis naszego obrazka wraz z informacjami dostarczonymi przez Shap (odnośnie istotności każdej z figur). Mamy zmienne takie jak:\n",
    "- shape - kształt figury\n",
    "- size - rozmiar figury\n",
    "- color - kolor figury\n",
    "- label - wzorzec do jakiego należy dana figura\n",
    "- class - prawdziwa etykieta dla całego obrazka\n",
    "- isTrue - czy kształt jest częścią figury, która jest prawdziwa (np. koło z kół)\n",
    "- mainShape - do którego z dużych kształtów należy figura\n",
    "- size_d - rozmiar figury (zmienna dyskretna przyjmująca wartości: mała, średnia, duża)\n",
    "- importance - istotność danej figury do dokonania predykcji"
   ]
  },
  {
   "cell_type": "markdown",
   "metadata": {},
   "source": [
    "#### Nowo wyuczone modele (możliwość porówniania globalnych wyjaśnień różnych modeli, na co który zwraca uwagę)"
   ]
  },
  {
   "cell_type": "code",
   "execution_count": 358,
   "metadata": {},
   "outputs": [
    {
     "data": {
      "text/html": [
       "<div>\n",
       "<style scoped>\n",
       "    .dataframe tbody tr th:only-of-type {\n",
       "        vertical-align: middle;\n",
       "    }\n",
       "\n",
       "    .dataframe tbody tr th {\n",
       "        vertical-align: top;\n",
       "    }\n",
       "\n",
       "    .dataframe thead th {\n",
       "        text-align: right;\n",
       "    }\n",
       "</style>\n",
       "<table border=\"1\" class=\"dataframe\">\n",
       "  <thead>\n",
       "    <tr style=\"text-align: right;\">\n",
       "      <th></th>\n",
       "      <th>epoch</th>\n",
       "      <th>loss</th>\n",
       "      <th>accuracy_test</th>\n",
       "      <th>accuracy_train</th>\n",
       "    </tr>\n",
       "  </thead>\n",
       "  <tbody>\n",
       "    <tr>\n",
       "      <th>0</th>\n",
       "      <td>1</td>\n",
       "      <td>0.942898</td>\n",
       "      <td>0.232708</td>\n",
       "      <td>0.234028</td>\n",
       "    </tr>\n",
       "    <tr>\n",
       "      <th>1</th>\n",
       "      <td>2</td>\n",
       "      <td>0.888019</td>\n",
       "      <td>0.850208</td>\n",
       "      <td>0.855347</td>\n",
       "    </tr>\n",
       "    <tr>\n",
       "      <th>2</th>\n",
       "      <td>3</td>\n",
       "      <td>0.867419</td>\n",
       "      <td>0.836875</td>\n",
       "      <td>0.851528</td>\n",
       "    </tr>\n",
       "    <tr>\n",
       "      <th>3</th>\n",
       "      <td>4</td>\n",
       "      <td>0.855443</td>\n",
       "      <td>0.863125</td>\n",
       "      <td>0.887778</td>\n",
       "    </tr>\n",
       "    <tr>\n",
       "      <th>4</th>\n",
       "      <td>5</td>\n",
       "      <td>0.849476</td>\n",
       "      <td>0.879375</td>\n",
       "      <td>0.912083</td>\n",
       "    </tr>\n",
       "    <tr>\n",
       "      <th>5</th>\n",
       "      <td>6</td>\n",
       "      <td>0.839285</td>\n",
       "      <td>0.868125</td>\n",
       "      <td>0.897708</td>\n",
       "    </tr>\n",
       "    <tr>\n",
       "      <th>6</th>\n",
       "      <td>7</td>\n",
       "      <td>0.833280</td>\n",
       "      <td>0.888333</td>\n",
       "      <td>0.919792</td>\n",
       "    </tr>\n",
       "    <tr>\n",
       "      <th>7</th>\n",
       "      <td>8</td>\n",
       "      <td>0.828583</td>\n",
       "      <td>0.879792</td>\n",
       "      <td>0.917708</td>\n",
       "    </tr>\n",
       "    <tr>\n",
       "      <th>8</th>\n",
       "      <td>9</td>\n",
       "      <td>0.821274</td>\n",
       "      <td>0.892083</td>\n",
       "      <td>0.925069</td>\n",
       "    </tr>\n",
       "    <tr>\n",
       "      <th>9</th>\n",
       "      <td>10</td>\n",
       "      <td>0.816618</td>\n",
       "      <td>0.887917</td>\n",
       "      <td>0.928056</td>\n",
       "    </tr>\n",
       "  </tbody>\n",
       "</table>\n",
       "</div>"
      ],
      "text/plain": [
       "   epoch      loss  accuracy_test  accuracy_train\n",
       "0      1  0.942898       0.232708        0.234028\n",
       "1      2  0.888019       0.850208        0.855347\n",
       "2      3  0.867419       0.836875        0.851528\n",
       "3      4  0.855443       0.863125        0.887778\n",
       "4      5  0.849476       0.879375        0.912083\n",
       "5      6  0.839285       0.868125        0.897708\n",
       "6      7  0.833280       0.888333        0.919792\n",
       "7      8  0.828583       0.879792        0.917708\n",
       "8      9  0.821274       0.892083        0.925069\n",
       "9     10  0.816618       0.887917        0.928056"
      ]
     },
     "execution_count": 358,
     "metadata": {},
     "output_type": "execute_result"
    }
   ],
   "source": [
    "pd.read_csv('../models_18-05/results_resnet18.csv')"
   ]
  },
  {
   "cell_type": "code",
   "execution_count": 359,
   "metadata": {},
   "outputs": [
    {
     "data": {
      "text/html": [
       "<div>\n",
       "<style scoped>\n",
       "    .dataframe tbody tr th:only-of-type {\n",
       "        vertical-align: middle;\n",
       "    }\n",
       "\n",
       "    .dataframe tbody tr th {\n",
       "        vertical-align: top;\n",
       "    }\n",
       "\n",
       "    .dataframe thead th {\n",
       "        text-align: right;\n",
       "    }\n",
       "</style>\n",
       "<table border=\"1\" class=\"dataframe\">\n",
       "  <thead>\n",
       "    <tr style=\"text-align: right;\">\n",
       "      <th></th>\n",
       "      <th>epoch</th>\n",
       "      <th>loss</th>\n",
       "      <th>accuracy_test</th>\n",
       "      <th>accuracy_train</th>\n",
       "    </tr>\n",
       "  </thead>\n",
       "  <tbody>\n",
       "    <tr>\n",
       "      <th>0</th>\n",
       "      <td>1</td>\n",
       "      <td>0.944613</td>\n",
       "      <td>0.252292</td>\n",
       "      <td>0.254028</td>\n",
       "    </tr>\n",
       "    <tr>\n",
       "      <th>1</th>\n",
       "      <td>2</td>\n",
       "      <td>0.889335</td>\n",
       "      <td>0.836042</td>\n",
       "      <td>0.839028</td>\n",
       "    </tr>\n",
       "    <tr>\n",
       "      <th>2</th>\n",
       "      <td>3</td>\n",
       "      <td>0.868677</td>\n",
       "      <td>0.827292</td>\n",
       "      <td>0.835139</td>\n",
       "    </tr>\n",
       "    <tr>\n",
       "      <th>3</th>\n",
       "      <td>4</td>\n",
       "      <td>0.855860</td>\n",
       "      <td>0.868542</td>\n",
       "      <td>0.887083</td>\n",
       "    </tr>\n",
       "    <tr>\n",
       "      <th>4</th>\n",
       "      <td>5</td>\n",
       "      <td>0.845894</td>\n",
       "      <td>0.782292</td>\n",
       "      <td>0.802431</td>\n",
       "    </tr>\n",
       "    <tr>\n",
       "      <th>5</th>\n",
       "      <td>6</td>\n",
       "      <td>0.841134</td>\n",
       "      <td>0.890625</td>\n",
       "      <td>0.912153</td>\n",
       "    </tr>\n",
       "    <tr>\n",
       "      <th>6</th>\n",
       "      <td>7</td>\n",
       "      <td>0.834083</td>\n",
       "      <td>0.885000</td>\n",
       "      <td>0.911944</td>\n",
       "    </tr>\n",
       "    <tr>\n",
       "      <th>7</th>\n",
       "      <td>8</td>\n",
       "      <td>0.827049</td>\n",
       "      <td>0.871458</td>\n",
       "      <td>0.883750</td>\n",
       "    </tr>\n",
       "    <tr>\n",
       "      <th>8</th>\n",
       "      <td>9</td>\n",
       "      <td>0.822237</td>\n",
       "      <td>0.889167</td>\n",
       "      <td>0.914861</td>\n",
       "    </tr>\n",
       "    <tr>\n",
       "      <th>9</th>\n",
       "      <td>10</td>\n",
       "      <td>0.816341</td>\n",
       "      <td>0.890833</td>\n",
       "      <td>0.919097</td>\n",
       "    </tr>\n",
       "  </tbody>\n",
       "</table>\n",
       "</div>"
      ],
      "text/plain": [
       "   epoch      loss  accuracy_test  accuracy_train\n",
       "0      1  0.944613       0.252292        0.254028\n",
       "1      2  0.889335       0.836042        0.839028\n",
       "2      3  0.868677       0.827292        0.835139\n",
       "3      4  0.855860       0.868542        0.887083\n",
       "4      5  0.845894       0.782292        0.802431\n",
       "5      6  0.841134       0.890625        0.912153\n",
       "6      7  0.834083       0.885000        0.911944\n",
       "7      8  0.827049       0.871458        0.883750\n",
       "8      9  0.822237       0.889167        0.914861\n",
       "9     10  0.816341       0.890833        0.919097"
      ]
     },
     "execution_count": 359,
     "metadata": {},
     "output_type": "execute_result"
    }
   ],
   "source": [
    "pd.read_csv('../models_18-05/results_resnet34.csv')"
   ]
  },
  {
   "cell_type": "code",
   "execution_count": 360,
   "metadata": {},
   "outputs": [
    {
     "data": {
      "text/html": [
       "<div>\n",
       "<style scoped>\n",
       "    .dataframe tbody tr th:only-of-type {\n",
       "        vertical-align: middle;\n",
       "    }\n",
       "\n",
       "    .dataframe tbody tr th {\n",
       "        vertical-align: top;\n",
       "    }\n",
       "\n",
       "    .dataframe thead th {\n",
       "        text-align: right;\n",
       "    }\n",
       "</style>\n",
       "<table border=\"1\" class=\"dataframe\">\n",
       "  <thead>\n",
       "    <tr style=\"text-align: right;\">\n",
       "      <th></th>\n",
       "      <th>epoch</th>\n",
       "      <th>loss</th>\n",
       "      <th>accuracy_test</th>\n",
       "      <th>accuracy_train</th>\n",
       "    </tr>\n",
       "  </thead>\n",
       "  <tbody>\n",
       "    <tr>\n",
       "      <th>0</th>\n",
       "      <td>1</td>\n",
       "      <td>0.991105</td>\n",
       "      <td>0.222083</td>\n",
       "      <td>0.222431</td>\n",
       "    </tr>\n",
       "    <tr>\n",
       "      <th>1</th>\n",
       "      <td>2</td>\n",
       "      <td>0.970295</td>\n",
       "      <td>0.772500</td>\n",
       "      <td>0.768750</td>\n",
       "    </tr>\n",
       "    <tr>\n",
       "      <th>2</th>\n",
       "      <td>3</td>\n",
       "      <td>0.938328</td>\n",
       "      <td>0.761458</td>\n",
       "      <td>0.758958</td>\n",
       "    </tr>\n",
       "    <tr>\n",
       "      <th>3</th>\n",
       "      <td>4</td>\n",
       "      <td>0.926082</td>\n",
       "      <td>0.850208</td>\n",
       "      <td>0.853472</td>\n",
       "    </tr>\n",
       "    <tr>\n",
       "      <th>4</th>\n",
       "      <td>5</td>\n",
       "      <td>0.936328</td>\n",
       "      <td>0.799792</td>\n",
       "      <td>0.810972</td>\n",
       "    </tr>\n",
       "    <tr>\n",
       "      <th>5</th>\n",
       "      <td>6</td>\n",
       "      <td>0.951774</td>\n",
       "      <td>0.827500</td>\n",
       "      <td>0.831736</td>\n",
       "    </tr>\n",
       "    <tr>\n",
       "      <th>6</th>\n",
       "      <td>7</td>\n",
       "      <td>0.958401</td>\n",
       "      <td>0.754167</td>\n",
       "      <td>0.755139</td>\n",
       "    </tr>\n",
       "    <tr>\n",
       "      <th>7</th>\n",
       "      <td>8</td>\n",
       "      <td>0.961301</td>\n",
       "      <td>0.804375</td>\n",
       "      <td>0.815139</td>\n",
       "    </tr>\n",
       "    <tr>\n",
       "      <th>8</th>\n",
       "      <td>9</td>\n",
       "      <td>1.003915</td>\n",
       "      <td>0.725417</td>\n",
       "      <td>0.725417</td>\n",
       "    </tr>\n",
       "    <tr>\n",
       "      <th>9</th>\n",
       "      <td>10</td>\n",
       "      <td>1.071187</td>\n",
       "      <td>0.804167</td>\n",
       "      <td>0.807431</td>\n",
       "    </tr>\n",
       "  </tbody>\n",
       "</table>\n",
       "</div>"
      ],
      "text/plain": [
       "   epoch      loss  accuracy_test  accuracy_train\n",
       "0      1  0.991105       0.222083        0.222431\n",
       "1      2  0.970295       0.772500        0.768750\n",
       "2      3  0.938328       0.761458        0.758958\n",
       "3      4  0.926082       0.850208        0.853472\n",
       "4      5  0.936328       0.799792        0.810972\n",
       "5      6  0.951774       0.827500        0.831736\n",
       "6      7  0.958401       0.754167        0.755139\n",
       "7      8  0.961301       0.804375        0.815139\n",
       "8      9  1.003915       0.725417        0.725417\n",
       "9     10  1.071187       0.804167        0.807431"
      ]
     },
     "execution_count": 360,
     "metadata": {},
     "output_type": "execute_result"
    }
   ],
   "source": [
    "pd.read_csv('../models_18-05/results_vgg11.csv')"
   ]
  },
  {
   "cell_type": "code",
   "execution_count": 361,
   "metadata": {},
   "outputs": [
    {
     "data": {
      "text/html": [
       "<div>\n",
       "<style scoped>\n",
       "    .dataframe tbody tr th:only-of-type {\n",
       "        vertical-align: middle;\n",
       "    }\n",
       "\n",
       "    .dataframe tbody tr th {\n",
       "        vertical-align: top;\n",
       "    }\n",
       "\n",
       "    .dataframe thead th {\n",
       "        text-align: right;\n",
       "    }\n",
       "</style>\n",
       "<table border=\"1\" class=\"dataframe\">\n",
       "  <thead>\n",
       "    <tr style=\"text-align: right;\">\n",
       "      <th></th>\n",
       "      <th>epoch</th>\n",
       "      <th>loss</th>\n",
       "      <th>accuracy_test</th>\n",
       "      <th>accuracy_train</th>\n",
       "    </tr>\n",
       "  </thead>\n",
       "  <tbody>\n",
       "    <tr>\n",
       "      <th>0</th>\n",
       "      <td>1</td>\n",
       "      <td>0.997043</td>\n",
       "      <td>0.329583</td>\n",
       "      <td>0.329931</td>\n",
       "    </tr>\n",
       "    <tr>\n",
       "      <th>1</th>\n",
       "      <td>2</td>\n",
       "      <td>0.900639</td>\n",
       "      <td>0.835208</td>\n",
       "      <td>0.848056</td>\n",
       "    </tr>\n",
       "    <tr>\n",
       "      <th>2</th>\n",
       "      <td>3</td>\n",
       "      <td>0.876647</td>\n",
       "      <td>0.870000</td>\n",
       "      <td>0.890556</td>\n",
       "    </tr>\n",
       "    <tr>\n",
       "      <th>3</th>\n",
       "      <td>4</td>\n",
       "      <td>0.866147</td>\n",
       "      <td>0.875625</td>\n",
       "      <td>0.900764</td>\n",
       "    </tr>\n",
       "    <tr>\n",
       "      <th>4</th>\n",
       "      <td>5</td>\n",
       "      <td>0.853615</td>\n",
       "      <td>0.871875</td>\n",
       "      <td>0.902431</td>\n",
       "    </tr>\n",
       "    <tr>\n",
       "      <th>5</th>\n",
       "      <td>6</td>\n",
       "      <td>0.845394</td>\n",
       "      <td>0.887083</td>\n",
       "      <td>0.919931</td>\n",
       "    </tr>\n",
       "    <tr>\n",
       "      <th>6</th>\n",
       "      <td>7</td>\n",
       "      <td>0.842125</td>\n",
       "      <td>0.886667</td>\n",
       "      <td>0.922639</td>\n",
       "    </tr>\n",
       "    <tr>\n",
       "      <th>7</th>\n",
       "      <td>8</td>\n",
       "      <td>0.832227</td>\n",
       "      <td>0.889583</td>\n",
       "      <td>0.931250</td>\n",
       "    </tr>\n",
       "    <tr>\n",
       "      <th>8</th>\n",
       "      <td>9</td>\n",
       "      <td>0.824493</td>\n",
       "      <td>0.892500</td>\n",
       "      <td>0.932986</td>\n",
       "    </tr>\n",
       "    <tr>\n",
       "      <th>9</th>\n",
       "      <td>10</td>\n",
       "      <td>0.820333</td>\n",
       "      <td>0.894792</td>\n",
       "      <td>0.939028</td>\n",
       "    </tr>\n",
       "  </tbody>\n",
       "</table>\n",
       "</div>"
      ],
      "text/plain": [
       "   epoch      loss  accuracy_test  accuracy_train\n",
       "0      1  0.997043       0.329583        0.329931\n",
       "1      2  0.900639       0.835208        0.848056\n",
       "2      3  0.876647       0.870000        0.890556\n",
       "3      4  0.866147       0.875625        0.900764\n",
       "4      5  0.853615       0.871875        0.902431\n",
       "5      6  0.845394       0.887083        0.919931\n",
       "6      7  0.842125       0.886667        0.922639\n",
       "7      8  0.832227       0.889583        0.931250\n",
       "8      9  0.824493       0.892500        0.932986\n",
       "9     10  0.820333       0.894792        0.939028"
      ]
     },
     "execution_count": 361,
     "metadata": {},
     "output_type": "execute_result"
    }
   ],
   "source": [
    "pd.read_csv('../models_18-05/results_efficientnet_b0.csv')"
   ]
  },
  {
   "cell_type": "markdown",
   "metadata": {},
   "source": [
    "Widzimy, że najsłabiej poradził sobie model vgg11, natomiast najlepsze wyniki osiąga efficientnet."
   ]
  }
 ],
 "metadata": {
  "interpreter": {
   "hash": "bdc952c83ab700cb2a2ae5b1879c12b8874e08aacc21ce68ea28ff16932fb5f6"
  },
  "kernelspec": {
   "display_name": "Python 3",
   "language": "python",
   "name": "python3"
  },
  "language_info": {
   "codemirror_mode": {
    "name": "ipython",
    "version": 3
   },
   "file_extension": ".py",
   "mimetype": "text/x-python",
   "name": "python",
   "nbconvert_exporter": "python",
   "pygments_lexer": "ipython3",
   "version": "3.7.4"
  }
 },
 "nbformat": 4,
 "nbformat_minor": 2
}
